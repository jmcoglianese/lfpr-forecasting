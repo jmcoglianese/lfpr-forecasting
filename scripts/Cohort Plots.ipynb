{
 "cells": [
  {
   "cell_type": "code",
   "execution_count": 26,
   "metadata": {
    "collapsed": true
   },
   "outputs": [],
   "source": [
    "%matplotlib notebook\n",
    "import matplotlib.pyplot as plt\n",
    "import matplotlib.lines as mlines\n",
    "import ipywidgets as widgets\n",
    "import numpy as np\n",
    "import pandas as pd\n",
    "from IPython.display import display\n",
    "\n",
    "data = pd.read_csv(\"../data/lfpr_gp_pred.csv\")\n",
    "data2 = pd.read_csv(\"../data/lfpr_gp_pred2.csv\")\n",
    "data['lfp_pred2'] = data2['lfp_pred']\n",
    "data['lfp_se2'] = data2['lfp_se']\n",
    "data['lfp_age_avg'] = data2['lfp_age_avg']\n",
    "data3 = pd.read_csv(\"../data/lfpr_gp_pred3.csv\")\n",
    "data['lfp_pred3'] = data3['lfp_pred']\n",
    "data['lfp_se3'] = data3['lfp_se']"
   ]
  },
  {
   "cell_type": "code",
   "execution_count": 27,
   "metadata": {},
   "outputs": [
    {
     "data": {
      "text/html": [
       "<div>\n",
       "<table border=\"1\" class=\"dataframe\">\n",
       "  <thead>\n",
       "    <tr style=\"text-align: right;\">\n",
       "      <th></th>\n",
       "      <th>year</th>\n",
       "      <th>age</th>\n",
       "      <th>sex</th>\n",
       "      <th>lfp</th>\n",
       "      <th>n</th>\n",
       "      <th>cohort</th>\n",
       "      <th>lfp_pred</th>\n",
       "      <th>lfp_se</th>\n",
       "      <th>lfp_pred2</th>\n",
       "      <th>lfp_se2</th>\n",
       "      <th>lfp_age_avg</th>\n",
       "      <th>lfp_pred3</th>\n",
       "      <th>lfp_se3</th>\n",
       "    </tr>\n",
       "  </thead>\n",
       "  <tbody>\n",
       "    <tr>\n",
       "      <th>0</th>\n",
       "      <td>1976</td>\n",
       "      <td>16</td>\n",
       "      <td>1</td>\n",
       "      <td>42.835133</td>\n",
       "      <td>16430</td>\n",
       "      <td>1960</td>\n",
       "      <td>45.241432</td>\n",
       "      <td>0.507778</td>\n",
       "      <td>44.928888</td>\n",
       "      <td>0.434914</td>\n",
       "      <td>39.198872</td>\n",
       "      <td>44.143396</td>\n",
       "      <td>0.055740</td>\n",
       "    </tr>\n",
       "    <tr>\n",
       "      <th>1</th>\n",
       "      <td>1977</td>\n",
       "      <td>16</td>\n",
       "      <td>1</td>\n",
       "      <td>44.484486</td>\n",
       "      <td>17713</td>\n",
       "      <td>1961</td>\n",
       "      <td>44.528586</td>\n",
       "      <td>0.424491</td>\n",
       "      <td>45.884892</td>\n",
       "      <td>0.366961</td>\n",
       "      <td>39.198872</td>\n",
       "      <td>43.901651</td>\n",
       "      <td>0.049961</td>\n",
       "    </tr>\n",
       "    <tr>\n",
       "      <th>2</th>\n",
       "      <td>1978</td>\n",
       "      <td>16</td>\n",
       "      <td>1</td>\n",
       "      <td>45.581497</td>\n",
       "      <td>18008</td>\n",
       "      <td>1962</td>\n",
       "      <td>43.806723</td>\n",
       "      <td>0.366676</td>\n",
       "      <td>45.896631</td>\n",
       "      <td>0.348515</td>\n",
       "      <td>39.198872</td>\n",
       "      <td>43.571758</td>\n",
       "      <td>0.045757</td>\n",
       "    </tr>\n",
       "    <tr>\n",
       "      <th>3</th>\n",
       "      <td>1979</td>\n",
       "      <td>16</td>\n",
       "      <td>1</td>\n",
       "      <td>46.495674</td>\n",
       "      <td>17402</td>\n",
       "      <td>1963</td>\n",
       "      <td>43.083023</td>\n",
       "      <td>0.330187</td>\n",
       "      <td>44.896096</td>\n",
       "      <td>0.344938</td>\n",
       "      <td>39.198872</td>\n",
       "      <td>43.163429</td>\n",
       "      <td>0.042861</td>\n",
       "    </tr>\n",
       "    <tr>\n",
       "      <th>4</th>\n",
       "      <td>1980</td>\n",
       "      <td>16</td>\n",
       "      <td>1</td>\n",
       "      <td>44.297375</td>\n",
       "      <td>19704</td>\n",
       "      <td>1964</td>\n",
       "      <td>42.364676</td>\n",
       "      <td>0.309425</td>\n",
       "      <td>43.117402</td>\n",
       "      <td>0.343619</td>\n",
       "      <td>39.198872</td>\n",
       "      <td>42.688149</td>\n",
       "      <td>0.040971</td>\n",
       "    </tr>\n",
       "  </tbody>\n",
       "</table>\n",
       "</div>"
      ],
      "text/plain": [
       "   year  age  sex        lfp      n  cohort   lfp_pred    lfp_se  lfp_pred2  \\\n",
       "0  1976   16    1  42.835133  16430    1960  45.241432  0.507778  44.928888   \n",
       "1  1977   16    1  44.484486  17713    1961  44.528586  0.424491  45.884892   \n",
       "2  1978   16    1  45.581497  18008    1962  43.806723  0.366676  45.896631   \n",
       "3  1979   16    1  46.495674  17402    1963  43.083023  0.330187  44.896096   \n",
       "4  1980   16    1  44.297375  19704    1964  42.364676  0.309425  43.117402   \n",
       "\n",
       "    lfp_se2  lfp_age_avg  lfp_pred3   lfp_se3  \n",
       "0  0.434914    39.198872  44.143396  0.055740  \n",
       "1  0.366961    39.198872  43.901651  0.049961  \n",
       "2  0.348515    39.198872  43.571758  0.045757  \n",
       "3  0.344938    39.198872  43.163429  0.042861  \n",
       "4  0.343619    39.198872  42.688149  0.040971  "
      ]
     },
     "execution_count": 27,
     "metadata": {},
     "output_type": "execute_result"
    }
   ],
   "source": [
    "data.head()"
   ]
  },
  {
   "cell_type": "code",
   "execution_count": 28,
   "metadata": {
    "collapsed": true
   },
   "outputs": [],
   "source": [
    "age_widget = widgets.IntRangeSlider(\n",
    "    value=[16, 80],\n",
    "    min=16,\n",
    "    max=80,\n",
    "    step=1,\n",
    "    description='Age Range:',\n",
    "    disabled=False,\n",
    "    continuous_update=False,\n",
    "    orientation='horizontal',\n",
    "    readout=True,\n",
    "    readout_format='d',\n",
    ")\n",
    "actual_data_widget = widgets.Checkbox(\n",
    "    value=True,\n",
    "    description='Actual LFPR',\n",
    "    disabled=False\n",
    ")\n",
    "gp_data_widget = widgets.Checkbox(\n",
    "    value=True,\n",
    "    description='GP without mean function',\n",
    "    disabled=False\n",
    ")\n",
    "gp2_data_widget = widgets.Checkbox(\n",
    "    value=True,\n",
    "    description='GP with age-specific mean',\n",
    "    disabled=False\n",
    ")\n",
    "gp3_data_widget = widgets.Checkbox(\n",
    "    value=True,\n",
    "    description='GP with age-specific mean and logistic transform',\n",
    "    disabled=False\n",
    ")\n",
    "data_widget_box = widgets.Box([actual_data_widget, gp_data_widget, gp2_data_widget, gp3_data_widget])\n",
    "year_widget = widgets.IntRangeSlider(\n",
    "    value=[1976, 2016],\n",
    "    min=1976,\n",
    "    max=2016,\n",
    "    step=1,\n",
    "    description='Year Range:',\n",
    "    disabled=False,\n",
    "    continuous_update=False,\n",
    "    orientation='horizontal',\n",
    "    readout=True,\n",
    "    readout_format='d',\n",
    ")\n",
    "cohort_label = widgets.Label('List of Cohorts (separated by commas):')\n",
    "cohort_widget = widgets.Text(\n",
    "    value='1930,1940,1950,1960,1970,',\n",
    "    placeholder='1930,',\n",
    "    description='',\n",
    "    disabled=False\n",
    ")\n",
    "cohort_box = widgets.Box([cohort_label, cohort_widget])\n",
    "age_adjustment_widget = widgets.Checkbox(\n",
    "    value=False,\n",
    "    description='Display age adjusted values?',\n",
    "    disabled=False\n",
    ")\n",
    "\n",
    "linestyle_list = ['solid', 'dashed', 'dotted', 'dashdot']\n",
    "color_list = ['b', 'g', 'r', 'c', 'm'] * 10\n",
    "marker_list = ['o', '^', 'D', 'x', '+'] * 10\n",
    "train_linewidth = 2\n",
    "test_linewidth = 1\n",
    "train_markersize = 4\n",
    "test_markersize = 2\n",
    "variables = ['lfp', 'lfp_pred', 'lfp_pred2', 'lfp_pred3']\n",
    "vartitles = ['Actual', 'GP', 'GP w/ Mean', 'GP w/ Mean & Logistic Transform']"
   ]
  },
  {
   "cell_type": "code",
   "execution_count": 29,
   "metadata": {
    "scrolled": false
   },
   "outputs": [
    {
     "data": {
      "application/vnd.jupyter.widget-view+json": {
       "model_id": "541372d73edd41a68cb5f6827d97aa7d",
       "version_major": 2,
       "version_minor": 0
      },
      "text/html": [
       "<p>Failed to display Jupyter Widget of type <code>Box</code>.</p>\n",
       "<p>\n",
       "  If you're reading this message in the Jupyter Notebook or JupyterLab Notebook, it may mean\n",
       "  that the widgets JavaScript is still loading. If this message persists, it\n",
       "  likely means that the widgets JavaScript library is either not installed or\n",
       "  not enabled. See the <a href=\"https://ipywidgets.readthedocs.io/en/stable/user_install.html\">Jupyter\n",
       "  Widgets Documentation</a> for setup instructions.\n",
       "</p>\n",
       "<p>\n",
       "  If you're reading this message in another frontend (for example, a static\n",
       "  rendering on GitHub or <a href=\"https://nbviewer.jupyter.org/\">NBViewer</a>),\n",
       "  it may mean that your frontend doesn't currently support widgets.\n",
       "</p>\n"
      ],
      "text/plain": [
       "Box(children=(Label(value=u'List of Cohorts (separated by commas):'), Text(value=u'1930,1940,1950,1960,1970,', placeholder=u'1930,')))"
      ]
     },
     "metadata": {},
     "output_type": "display_data"
    },
    {
     "data": {
      "application/vnd.jupyter.widget-view+json": {
       "model_id": "89d8a32157d14441b1bbc3ca9ed56520",
       "version_major": 2,
       "version_minor": 0
      },
      "text/html": [
       "<p>Failed to display Jupyter Widget of type <code>IntRangeSlider</code>.</p>\n",
       "<p>\n",
       "  If you're reading this message in the Jupyter Notebook or JupyterLab Notebook, it may mean\n",
       "  that the widgets JavaScript is still loading. If this message persists, it\n",
       "  likely means that the widgets JavaScript library is either not installed or\n",
       "  not enabled. See the <a href=\"https://ipywidgets.readthedocs.io/en/stable/user_install.html\">Jupyter\n",
       "  Widgets Documentation</a> for setup instructions.\n",
       "</p>\n",
       "<p>\n",
       "  If you're reading this message in another frontend (for example, a static\n",
       "  rendering on GitHub or <a href=\"https://nbviewer.jupyter.org/\">NBViewer</a>),\n",
       "  it may mean that your frontend doesn't currently support widgets.\n",
       "</p>\n"
      ],
      "text/plain": [
       "IntRangeSlider(value=(16, 80), continuous_update=False, description=u'Age Range:', max=80, min=16)"
      ]
     },
     "metadata": {},
     "output_type": "display_data"
    },
    {
     "data": {
      "application/vnd.jupyter.widget-view+json": {
       "model_id": "6042cc39e9884f5786fffdf9fc4b98d6",
       "version_major": 2,
       "version_minor": 0
      },
      "text/html": [
       "<p>Failed to display Jupyter Widget of type <code>IntRangeSlider</code>.</p>\n",
       "<p>\n",
       "  If you're reading this message in the Jupyter Notebook or JupyterLab Notebook, it may mean\n",
       "  that the widgets JavaScript is still loading. If this message persists, it\n",
       "  likely means that the widgets JavaScript library is either not installed or\n",
       "  not enabled. See the <a href=\"https://ipywidgets.readthedocs.io/en/stable/user_install.html\">Jupyter\n",
       "  Widgets Documentation</a> for setup instructions.\n",
       "</p>\n",
       "<p>\n",
       "  If you're reading this message in another frontend (for example, a static\n",
       "  rendering on GitHub or <a href=\"https://nbviewer.jupyter.org/\">NBViewer</a>),\n",
       "  it may mean that your frontend doesn't currently support widgets.\n",
       "</p>\n"
      ],
      "text/plain": [
       "IntRangeSlider(value=(1976, 2016), continuous_update=False, description=u'Year Range:', max=2016, min=1976)"
      ]
     },
     "metadata": {},
     "output_type": "display_data"
    },
    {
     "data": {
      "application/vnd.jupyter.widget-view+json": {
       "model_id": "99df58861be44ce7a4182553541d6bda",
       "version_major": 2,
       "version_minor": 0
      },
      "text/html": [
       "<p>Failed to display Jupyter Widget of type <code>Box</code>.</p>\n",
       "<p>\n",
       "  If you're reading this message in the Jupyter Notebook or JupyterLab Notebook, it may mean\n",
       "  that the widgets JavaScript is still loading. If this message persists, it\n",
       "  likely means that the widgets JavaScript library is either not installed or\n",
       "  not enabled. See the <a href=\"https://ipywidgets.readthedocs.io/en/stable/user_install.html\">Jupyter\n",
       "  Widgets Documentation</a> for setup instructions.\n",
       "</p>\n",
       "<p>\n",
       "  If you're reading this message in another frontend (for example, a static\n",
       "  rendering on GitHub or <a href=\"https://nbviewer.jupyter.org/\">NBViewer</a>),\n",
       "  it may mean that your frontend doesn't currently support widgets.\n",
       "</p>\n"
      ],
      "text/plain": [
       "Box(children=(Checkbox(value=True, description=u'Actual LFPR'), Checkbox(value=True, description=u'GP without mean function'), Checkbox(value=True, description=u'GP with age-specific mean'), Checkbox(value=True, description=u'GP with age-specific mean and logistic transform')))"
      ]
     },
     "metadata": {},
     "output_type": "display_data"
    },
    {
     "data": {
      "application/vnd.jupyter.widget-view+json": {
       "model_id": "7bc53b7f96d64a79b27c77a43612026e",
       "version_major": 2,
       "version_minor": 0
      },
      "text/html": [
       "<p>Failed to display Jupyter Widget of type <code>Checkbox</code>.</p>\n",
       "<p>\n",
       "  If you're reading this message in the Jupyter Notebook or JupyterLab Notebook, it may mean\n",
       "  that the widgets JavaScript is still loading. If this message persists, it\n",
       "  likely means that the widgets JavaScript library is either not installed or\n",
       "  not enabled. See the <a href=\"https://ipywidgets.readthedocs.io/en/stable/user_install.html\">Jupyter\n",
       "  Widgets Documentation</a> for setup instructions.\n",
       "</p>\n",
       "<p>\n",
       "  If you're reading this message in another frontend (for example, a static\n",
       "  rendering on GitHub or <a href=\"https://nbviewer.jupyter.org/\">NBViewer</a>),\n",
       "  it may mean that your frontend doesn't currently support widgets.\n",
       "</p>\n"
      ],
      "text/plain": [
       "Checkbox(value=False, description=u'Display age adjusted values?')"
      ]
     },
     "metadata": {},
     "output_type": "display_data"
    },
    {
     "data": {
      "application/javascript": [
       "/* Put everything inside the global mpl namespace */\n",
       "window.mpl = {};\n",
       "\n",
       "\n",
       "mpl.get_websocket_type = function() {\n",
       "    if (typeof(WebSocket) !== 'undefined') {\n",
       "        return WebSocket;\n",
       "    } else if (typeof(MozWebSocket) !== 'undefined') {\n",
       "        return MozWebSocket;\n",
       "    } else {\n",
       "        alert('Your browser does not have WebSocket support.' +\n",
       "              'Please try Chrome, Safari or Firefox ≥ 6. ' +\n",
       "              'Firefox 4 and 5 are also supported but you ' +\n",
       "              'have to enable WebSockets in about:config.');\n",
       "    };\n",
       "}\n",
       "\n",
       "mpl.figure = function(figure_id, websocket, ondownload, parent_element) {\n",
       "    this.id = figure_id;\n",
       "\n",
       "    this.ws = websocket;\n",
       "\n",
       "    this.supports_binary = (this.ws.binaryType != undefined);\n",
       "\n",
       "    if (!this.supports_binary) {\n",
       "        var warnings = document.getElementById(\"mpl-warnings\");\n",
       "        if (warnings) {\n",
       "            warnings.style.display = 'block';\n",
       "            warnings.textContent = (\n",
       "                \"This browser does not support binary websocket messages. \" +\n",
       "                    \"Performance may be slow.\");\n",
       "        }\n",
       "    }\n",
       "\n",
       "    this.imageObj = new Image();\n",
       "\n",
       "    this.context = undefined;\n",
       "    this.message = undefined;\n",
       "    this.canvas = undefined;\n",
       "    this.rubberband_canvas = undefined;\n",
       "    this.rubberband_context = undefined;\n",
       "    this.format_dropdown = undefined;\n",
       "\n",
       "    this.image_mode = 'full';\n",
       "\n",
       "    this.root = $('<div/>');\n",
       "    this._root_extra_style(this.root)\n",
       "    this.root.attr('style', 'display: inline-block');\n",
       "\n",
       "    $(parent_element).append(this.root);\n",
       "\n",
       "    this._init_header(this);\n",
       "    this._init_canvas(this);\n",
       "    this._init_toolbar(this);\n",
       "\n",
       "    var fig = this;\n",
       "\n",
       "    this.waiting = false;\n",
       "\n",
       "    this.ws.onopen =  function () {\n",
       "            fig.send_message(\"supports_binary\", {value: fig.supports_binary});\n",
       "            fig.send_message(\"send_image_mode\", {});\n",
       "            if (mpl.ratio != 1) {\n",
       "                fig.send_message(\"set_dpi_ratio\", {'dpi_ratio': mpl.ratio});\n",
       "            }\n",
       "            fig.send_message(\"refresh\", {});\n",
       "        }\n",
       "\n",
       "    this.imageObj.onload = function() {\n",
       "            if (fig.image_mode == 'full') {\n",
       "                // Full images could contain transparency (where diff images\n",
       "                // almost always do), so we need to clear the canvas so that\n",
       "                // there is no ghosting.\n",
       "                fig.context.clearRect(0, 0, fig.canvas.width, fig.canvas.height);\n",
       "            }\n",
       "            fig.context.drawImage(fig.imageObj, 0, 0);\n",
       "        };\n",
       "\n",
       "    this.imageObj.onunload = function() {\n",
       "        this.ws.close();\n",
       "    }\n",
       "\n",
       "    this.ws.onmessage = this._make_on_message_function(this);\n",
       "\n",
       "    this.ondownload = ondownload;\n",
       "}\n",
       "\n",
       "mpl.figure.prototype._init_header = function() {\n",
       "    var titlebar = $(\n",
       "        '<div class=\"ui-dialog-titlebar ui-widget-header ui-corner-all ' +\n",
       "        'ui-helper-clearfix\"/>');\n",
       "    var titletext = $(\n",
       "        '<div class=\"ui-dialog-title\" style=\"width: 100%; ' +\n",
       "        'text-align: center; padding: 3px;\"/>');\n",
       "    titlebar.append(titletext)\n",
       "    this.root.append(titlebar);\n",
       "    this.header = titletext[0];\n",
       "}\n",
       "\n",
       "\n",
       "\n",
       "mpl.figure.prototype._canvas_extra_style = function(canvas_div) {\n",
       "\n",
       "}\n",
       "\n",
       "\n",
       "mpl.figure.prototype._root_extra_style = function(canvas_div) {\n",
       "\n",
       "}\n",
       "\n",
       "mpl.figure.prototype._init_canvas = function() {\n",
       "    var fig = this;\n",
       "\n",
       "    var canvas_div = $('<div/>');\n",
       "\n",
       "    canvas_div.attr('style', 'position: relative; clear: both; outline: 0');\n",
       "\n",
       "    function canvas_keyboard_event(event) {\n",
       "        return fig.key_event(event, event['data']);\n",
       "    }\n",
       "\n",
       "    canvas_div.keydown('key_press', canvas_keyboard_event);\n",
       "    canvas_div.keyup('key_release', canvas_keyboard_event);\n",
       "    this.canvas_div = canvas_div\n",
       "    this._canvas_extra_style(canvas_div)\n",
       "    this.root.append(canvas_div);\n",
       "\n",
       "    var canvas = $('<canvas/>');\n",
       "    canvas.addClass('mpl-canvas');\n",
       "    canvas.attr('style', \"left: 0; top: 0; z-index: 0; outline: 0\")\n",
       "\n",
       "    this.canvas = canvas[0];\n",
       "    this.context = canvas[0].getContext(\"2d\");\n",
       "\n",
       "    var backingStore = this.context.backingStorePixelRatio ||\n",
       "\tthis.context.webkitBackingStorePixelRatio ||\n",
       "\tthis.context.mozBackingStorePixelRatio ||\n",
       "\tthis.context.msBackingStorePixelRatio ||\n",
       "\tthis.context.oBackingStorePixelRatio ||\n",
       "\tthis.context.backingStorePixelRatio || 1;\n",
       "\n",
       "    mpl.ratio = (window.devicePixelRatio || 1) / backingStore;\n",
       "\n",
       "    var rubberband = $('<canvas/>');\n",
       "    rubberband.attr('style', \"position: absolute; left: 0; top: 0; z-index: 1;\")\n",
       "\n",
       "    var pass_mouse_events = true;\n",
       "\n",
       "    canvas_div.resizable({\n",
       "        start: function(event, ui) {\n",
       "            pass_mouse_events = false;\n",
       "        },\n",
       "        resize: function(event, ui) {\n",
       "            fig.request_resize(ui.size.width, ui.size.height);\n",
       "        },\n",
       "        stop: function(event, ui) {\n",
       "            pass_mouse_events = true;\n",
       "            fig.request_resize(ui.size.width, ui.size.height);\n",
       "        },\n",
       "    });\n",
       "\n",
       "    function mouse_event_fn(event) {\n",
       "        if (pass_mouse_events)\n",
       "            return fig.mouse_event(event, event['data']);\n",
       "    }\n",
       "\n",
       "    rubberband.mousedown('button_press', mouse_event_fn);\n",
       "    rubberband.mouseup('button_release', mouse_event_fn);\n",
       "    // Throttle sequential mouse events to 1 every 20ms.\n",
       "    rubberband.mousemove('motion_notify', mouse_event_fn);\n",
       "\n",
       "    rubberband.mouseenter('figure_enter', mouse_event_fn);\n",
       "    rubberband.mouseleave('figure_leave', mouse_event_fn);\n",
       "\n",
       "    canvas_div.on(\"wheel\", function (event) {\n",
       "        event = event.originalEvent;\n",
       "        event['data'] = 'scroll'\n",
       "        if (event.deltaY < 0) {\n",
       "            event.step = 1;\n",
       "        } else {\n",
       "            event.step = -1;\n",
       "        }\n",
       "        mouse_event_fn(event);\n",
       "    });\n",
       "\n",
       "    canvas_div.append(canvas);\n",
       "    canvas_div.append(rubberband);\n",
       "\n",
       "    this.rubberband = rubberband;\n",
       "    this.rubberband_canvas = rubberband[0];\n",
       "    this.rubberband_context = rubberband[0].getContext(\"2d\");\n",
       "    this.rubberband_context.strokeStyle = \"#000000\";\n",
       "\n",
       "    this._resize_canvas = function(width, height) {\n",
       "        // Keep the size of the canvas, canvas container, and rubber band\n",
       "        // canvas in synch.\n",
       "        canvas_div.css('width', width)\n",
       "        canvas_div.css('height', height)\n",
       "\n",
       "        canvas.attr('width', width * mpl.ratio);\n",
       "        canvas.attr('height', height * mpl.ratio);\n",
       "        canvas.attr('style', 'width: ' + width + 'px; height: ' + height + 'px;');\n",
       "\n",
       "        rubberband.attr('width', width);\n",
       "        rubberband.attr('height', height);\n",
       "    }\n",
       "\n",
       "    // Set the figure to an initial 600x600px, this will subsequently be updated\n",
       "    // upon first draw.\n",
       "    this._resize_canvas(600, 600);\n",
       "\n",
       "    // Disable right mouse context menu.\n",
       "    $(this.rubberband_canvas).bind(\"contextmenu\",function(e){\n",
       "        return false;\n",
       "    });\n",
       "\n",
       "    function set_focus () {\n",
       "        canvas.focus();\n",
       "        canvas_div.focus();\n",
       "    }\n",
       "\n",
       "    window.setTimeout(set_focus, 100);\n",
       "}\n",
       "\n",
       "mpl.figure.prototype._init_toolbar = function() {\n",
       "    var fig = this;\n",
       "\n",
       "    var nav_element = $('<div/>')\n",
       "    nav_element.attr('style', 'width: 100%');\n",
       "    this.root.append(nav_element);\n",
       "\n",
       "    // Define a callback function for later on.\n",
       "    function toolbar_event(event) {\n",
       "        return fig.toolbar_button_onclick(event['data']);\n",
       "    }\n",
       "    function toolbar_mouse_event(event) {\n",
       "        return fig.toolbar_button_onmouseover(event['data']);\n",
       "    }\n",
       "\n",
       "    for(var toolbar_ind in mpl.toolbar_items) {\n",
       "        var name = mpl.toolbar_items[toolbar_ind][0];\n",
       "        var tooltip = mpl.toolbar_items[toolbar_ind][1];\n",
       "        var image = mpl.toolbar_items[toolbar_ind][2];\n",
       "        var method_name = mpl.toolbar_items[toolbar_ind][3];\n",
       "\n",
       "        if (!name) {\n",
       "            // put a spacer in here.\n",
       "            continue;\n",
       "        }\n",
       "        var button = $('<button/>');\n",
       "        button.addClass('ui-button ui-widget ui-state-default ui-corner-all ' +\n",
       "                        'ui-button-icon-only');\n",
       "        button.attr('role', 'button');\n",
       "        button.attr('aria-disabled', 'false');\n",
       "        button.click(method_name, toolbar_event);\n",
       "        button.mouseover(tooltip, toolbar_mouse_event);\n",
       "\n",
       "        var icon_img = $('<span/>');\n",
       "        icon_img.addClass('ui-button-icon-primary ui-icon');\n",
       "        icon_img.addClass(image);\n",
       "        icon_img.addClass('ui-corner-all');\n",
       "\n",
       "        var tooltip_span = $('<span/>');\n",
       "        tooltip_span.addClass('ui-button-text');\n",
       "        tooltip_span.html(tooltip);\n",
       "\n",
       "        button.append(icon_img);\n",
       "        button.append(tooltip_span);\n",
       "\n",
       "        nav_element.append(button);\n",
       "    }\n",
       "\n",
       "    var fmt_picker_span = $('<span/>');\n",
       "\n",
       "    var fmt_picker = $('<select/>');\n",
       "    fmt_picker.addClass('mpl-toolbar-option ui-widget ui-widget-content');\n",
       "    fmt_picker_span.append(fmt_picker);\n",
       "    nav_element.append(fmt_picker_span);\n",
       "    this.format_dropdown = fmt_picker[0];\n",
       "\n",
       "    for (var ind in mpl.extensions) {\n",
       "        var fmt = mpl.extensions[ind];\n",
       "        var option = $(\n",
       "            '<option/>', {selected: fmt === mpl.default_extension}).html(fmt);\n",
       "        fmt_picker.append(option)\n",
       "    }\n",
       "\n",
       "    // Add hover states to the ui-buttons\n",
       "    $( \".ui-button\" ).hover(\n",
       "        function() { $(this).addClass(\"ui-state-hover\");},\n",
       "        function() { $(this).removeClass(\"ui-state-hover\");}\n",
       "    );\n",
       "\n",
       "    var status_bar = $('<span class=\"mpl-message\"/>');\n",
       "    nav_element.append(status_bar);\n",
       "    this.message = status_bar[0];\n",
       "}\n",
       "\n",
       "mpl.figure.prototype.request_resize = function(x_pixels, y_pixels) {\n",
       "    // Request matplotlib to resize the figure. Matplotlib will then trigger a resize in the client,\n",
       "    // which will in turn request a refresh of the image.\n",
       "    this.send_message('resize', {'width': x_pixels, 'height': y_pixels});\n",
       "}\n",
       "\n",
       "mpl.figure.prototype.send_message = function(type, properties) {\n",
       "    properties['type'] = type;\n",
       "    properties['figure_id'] = this.id;\n",
       "    this.ws.send(JSON.stringify(properties));\n",
       "}\n",
       "\n",
       "mpl.figure.prototype.send_draw_message = function() {\n",
       "    if (!this.waiting) {\n",
       "        this.waiting = true;\n",
       "        this.ws.send(JSON.stringify({type: \"draw\", figure_id: this.id}));\n",
       "    }\n",
       "}\n",
       "\n",
       "\n",
       "mpl.figure.prototype.handle_save = function(fig, msg) {\n",
       "    var format_dropdown = fig.format_dropdown;\n",
       "    var format = format_dropdown.options[format_dropdown.selectedIndex].value;\n",
       "    fig.ondownload(fig, format);\n",
       "}\n",
       "\n",
       "\n",
       "mpl.figure.prototype.handle_resize = function(fig, msg) {\n",
       "    var size = msg['size'];\n",
       "    if (size[0] != fig.canvas.width || size[1] != fig.canvas.height) {\n",
       "        fig._resize_canvas(size[0], size[1]);\n",
       "        fig.send_message(\"refresh\", {});\n",
       "    };\n",
       "}\n",
       "\n",
       "mpl.figure.prototype.handle_rubberband = function(fig, msg) {\n",
       "    var x0 = msg['x0'] / mpl.ratio;\n",
       "    var y0 = (fig.canvas.height - msg['y0']) / mpl.ratio;\n",
       "    var x1 = msg['x1'] / mpl.ratio;\n",
       "    var y1 = (fig.canvas.height - msg['y1']) / mpl.ratio;\n",
       "    x0 = Math.floor(x0) + 0.5;\n",
       "    y0 = Math.floor(y0) + 0.5;\n",
       "    x1 = Math.floor(x1) + 0.5;\n",
       "    y1 = Math.floor(y1) + 0.5;\n",
       "    var min_x = Math.min(x0, x1);\n",
       "    var min_y = Math.min(y0, y1);\n",
       "    var width = Math.abs(x1 - x0);\n",
       "    var height = Math.abs(y1 - y0);\n",
       "\n",
       "    fig.rubberband_context.clearRect(\n",
       "        0, 0, fig.canvas.width, fig.canvas.height);\n",
       "\n",
       "    fig.rubberband_context.strokeRect(min_x, min_y, width, height);\n",
       "}\n",
       "\n",
       "mpl.figure.prototype.handle_figure_label = function(fig, msg) {\n",
       "    // Updates the figure title.\n",
       "    fig.header.textContent = msg['label'];\n",
       "}\n",
       "\n",
       "mpl.figure.prototype.handle_cursor = function(fig, msg) {\n",
       "    var cursor = msg['cursor'];\n",
       "    switch(cursor)\n",
       "    {\n",
       "    case 0:\n",
       "        cursor = 'pointer';\n",
       "        break;\n",
       "    case 1:\n",
       "        cursor = 'default';\n",
       "        break;\n",
       "    case 2:\n",
       "        cursor = 'crosshair';\n",
       "        break;\n",
       "    case 3:\n",
       "        cursor = 'move';\n",
       "        break;\n",
       "    }\n",
       "    fig.rubberband_canvas.style.cursor = cursor;\n",
       "}\n",
       "\n",
       "mpl.figure.prototype.handle_message = function(fig, msg) {\n",
       "    fig.message.textContent = msg['message'];\n",
       "}\n",
       "\n",
       "mpl.figure.prototype.handle_draw = function(fig, msg) {\n",
       "    // Request the server to send over a new figure.\n",
       "    fig.send_draw_message();\n",
       "}\n",
       "\n",
       "mpl.figure.prototype.handle_image_mode = function(fig, msg) {\n",
       "    fig.image_mode = msg['mode'];\n",
       "}\n",
       "\n",
       "mpl.figure.prototype.updated_canvas_event = function() {\n",
       "    // Called whenever the canvas gets updated.\n",
       "    this.send_message(\"ack\", {});\n",
       "}\n",
       "\n",
       "// A function to construct a web socket function for onmessage handling.\n",
       "// Called in the figure constructor.\n",
       "mpl.figure.prototype._make_on_message_function = function(fig) {\n",
       "    return function socket_on_message(evt) {\n",
       "        if (evt.data instanceof Blob) {\n",
       "            /* FIXME: We get \"Resource interpreted as Image but\n",
       "             * transferred with MIME type text/plain:\" errors on\n",
       "             * Chrome.  But how to set the MIME type?  It doesn't seem\n",
       "             * to be part of the websocket stream */\n",
       "            evt.data.type = \"image/png\";\n",
       "\n",
       "            /* Free the memory for the previous frames */\n",
       "            if (fig.imageObj.src) {\n",
       "                (window.URL || window.webkitURL).revokeObjectURL(\n",
       "                    fig.imageObj.src);\n",
       "            }\n",
       "\n",
       "            fig.imageObj.src = (window.URL || window.webkitURL).createObjectURL(\n",
       "                evt.data);\n",
       "            fig.updated_canvas_event();\n",
       "            fig.waiting = false;\n",
       "            return;\n",
       "        }\n",
       "        else if (typeof evt.data === 'string' && evt.data.slice(0, 21) == \"data:image/png;base64\") {\n",
       "            fig.imageObj.src = evt.data;\n",
       "            fig.updated_canvas_event();\n",
       "            fig.waiting = false;\n",
       "            return;\n",
       "        }\n",
       "\n",
       "        var msg = JSON.parse(evt.data);\n",
       "        var msg_type = msg['type'];\n",
       "\n",
       "        // Call the  \"handle_{type}\" callback, which takes\n",
       "        // the figure and JSON message as its only arguments.\n",
       "        try {\n",
       "            var callback = fig[\"handle_\" + msg_type];\n",
       "        } catch (e) {\n",
       "            console.log(\"No handler for the '\" + msg_type + \"' message type: \", msg);\n",
       "            return;\n",
       "        }\n",
       "\n",
       "        if (callback) {\n",
       "            try {\n",
       "                // console.log(\"Handling '\" + msg_type + \"' message: \", msg);\n",
       "                callback(fig, msg);\n",
       "            } catch (e) {\n",
       "                console.log(\"Exception inside the 'handler_\" + msg_type + \"' callback:\", e, e.stack, msg);\n",
       "            }\n",
       "        }\n",
       "    };\n",
       "}\n",
       "\n",
       "// from http://stackoverflow.com/questions/1114465/getting-mouse-location-in-canvas\n",
       "mpl.findpos = function(e) {\n",
       "    //this section is from http://www.quirksmode.org/js/events_properties.html\n",
       "    var targ;\n",
       "    if (!e)\n",
       "        e = window.event;\n",
       "    if (e.target)\n",
       "        targ = e.target;\n",
       "    else if (e.srcElement)\n",
       "        targ = e.srcElement;\n",
       "    if (targ.nodeType == 3) // defeat Safari bug\n",
       "        targ = targ.parentNode;\n",
       "\n",
       "    // jQuery normalizes the pageX and pageY\n",
       "    // pageX,Y are the mouse positions relative to the document\n",
       "    // offset() returns the position of the element relative to the document\n",
       "    var x = e.pageX - $(targ).offset().left;\n",
       "    var y = e.pageY - $(targ).offset().top;\n",
       "\n",
       "    return {\"x\": x, \"y\": y};\n",
       "};\n",
       "\n",
       "/*\n",
       " * return a copy of an object with only non-object keys\n",
       " * we need this to avoid circular references\n",
       " * http://stackoverflow.com/a/24161582/3208463\n",
       " */\n",
       "function simpleKeys (original) {\n",
       "  return Object.keys(original).reduce(function (obj, key) {\n",
       "    if (typeof original[key] !== 'object')\n",
       "        obj[key] = original[key]\n",
       "    return obj;\n",
       "  }, {});\n",
       "}\n",
       "\n",
       "mpl.figure.prototype.mouse_event = function(event, name) {\n",
       "    var canvas_pos = mpl.findpos(event)\n",
       "\n",
       "    if (name === 'button_press')\n",
       "    {\n",
       "        this.canvas.focus();\n",
       "        this.canvas_div.focus();\n",
       "    }\n",
       "\n",
       "    var x = canvas_pos.x * mpl.ratio;\n",
       "    var y = canvas_pos.y * mpl.ratio;\n",
       "\n",
       "    this.send_message(name, {x: x, y: y, button: event.button,\n",
       "                             step: event.step,\n",
       "                             guiEvent: simpleKeys(event)});\n",
       "\n",
       "    /* This prevents the web browser from automatically changing to\n",
       "     * the text insertion cursor when the button is pressed.  We want\n",
       "     * to control all of the cursor setting manually through the\n",
       "     * 'cursor' event from matplotlib */\n",
       "    event.preventDefault();\n",
       "    return false;\n",
       "}\n",
       "\n",
       "mpl.figure.prototype._key_event_extra = function(event, name) {\n",
       "    // Handle any extra behaviour associated with a key event\n",
       "}\n",
       "\n",
       "mpl.figure.prototype.key_event = function(event, name) {\n",
       "\n",
       "    // Prevent repeat events\n",
       "    if (name == 'key_press')\n",
       "    {\n",
       "        if (event.which === this._key)\n",
       "            return;\n",
       "        else\n",
       "            this._key = event.which;\n",
       "    }\n",
       "    if (name == 'key_release')\n",
       "        this._key = null;\n",
       "\n",
       "    var value = '';\n",
       "    if (event.ctrlKey && event.which != 17)\n",
       "        value += \"ctrl+\";\n",
       "    if (event.altKey && event.which != 18)\n",
       "        value += \"alt+\";\n",
       "    if (event.shiftKey && event.which != 16)\n",
       "        value += \"shift+\";\n",
       "\n",
       "    value += 'k';\n",
       "    value += event.which.toString();\n",
       "\n",
       "    this._key_event_extra(event, name);\n",
       "\n",
       "    this.send_message(name, {key: value,\n",
       "                             guiEvent: simpleKeys(event)});\n",
       "    return false;\n",
       "}\n",
       "\n",
       "mpl.figure.prototype.toolbar_button_onclick = function(name) {\n",
       "    if (name == 'download') {\n",
       "        this.handle_save(this, null);\n",
       "    } else {\n",
       "        this.send_message(\"toolbar_button\", {name: name});\n",
       "    }\n",
       "};\n",
       "\n",
       "mpl.figure.prototype.toolbar_button_onmouseover = function(tooltip) {\n",
       "    this.message.textContent = tooltip;\n",
       "};\n",
       "mpl.toolbar_items = [[\"Home\", \"Reset original view\", \"fa fa-home icon-home\", \"home\"], [\"Back\", \"Back to  previous view\", \"fa fa-arrow-left icon-arrow-left\", \"back\"], [\"Forward\", \"Forward to next view\", \"fa fa-arrow-right icon-arrow-right\", \"forward\"], [\"\", \"\", \"\", \"\"], [\"Pan\", \"Pan axes with left mouse, zoom with right\", \"fa fa-arrows icon-move\", \"pan\"], [\"Zoom\", \"Zoom to rectangle\", \"fa fa-square-o icon-check-empty\", \"zoom\"], [\"\", \"\", \"\", \"\"], [\"Download\", \"Download plot\", \"fa fa-floppy-o icon-save\", \"download\"]];\n",
       "\n",
       "mpl.extensions = [\"eps\", \"jpeg\", \"pdf\", \"png\", \"ps\", \"raw\", \"svg\", \"tif\"];\n",
       "\n",
       "mpl.default_extension = \"png\";var comm_websocket_adapter = function(comm) {\n",
       "    // Create a \"websocket\"-like object which calls the given IPython comm\n",
       "    // object with the appropriate methods. Currently this is a non binary\n",
       "    // socket, so there is still some room for performance tuning.\n",
       "    var ws = {};\n",
       "\n",
       "    ws.close = function() {\n",
       "        comm.close()\n",
       "    };\n",
       "    ws.send = function(m) {\n",
       "        //console.log('sending', m);\n",
       "        comm.send(m);\n",
       "    };\n",
       "    // Register the callback with on_msg.\n",
       "    comm.on_msg(function(msg) {\n",
       "        //console.log('receiving', msg['content']['data'], msg);\n",
       "        // Pass the mpl event to the overriden (by mpl) onmessage function.\n",
       "        ws.onmessage(msg['content']['data'])\n",
       "    });\n",
       "    return ws;\n",
       "}\n",
       "\n",
       "mpl.mpl_figure_comm = function(comm, msg) {\n",
       "    // This is the function which gets called when the mpl process\n",
       "    // starts-up an IPython Comm through the \"matplotlib\" channel.\n",
       "\n",
       "    var id = msg.content.data.id;\n",
       "    // Get hold of the div created by the display call when the Comm\n",
       "    // socket was opened in Python.\n",
       "    var element = $(\"#\" + id);\n",
       "    var ws_proxy = comm_websocket_adapter(comm)\n",
       "\n",
       "    function ondownload(figure, format) {\n",
       "        window.open(figure.imageObj.src);\n",
       "    }\n",
       "\n",
       "    var fig = new mpl.figure(id, ws_proxy,\n",
       "                           ondownload,\n",
       "                           element.get(0));\n",
       "\n",
       "    // Call onopen now - mpl needs it, as it is assuming we've passed it a real\n",
       "    // web socket which is closed, not our websocket->open comm proxy.\n",
       "    ws_proxy.onopen();\n",
       "\n",
       "    fig.parent_element = element.get(0);\n",
       "    fig.cell_info = mpl.find_output_cell(\"<div id='\" + id + \"'></div>\");\n",
       "    if (!fig.cell_info) {\n",
       "        console.error(\"Failed to find cell for figure\", id, fig);\n",
       "        return;\n",
       "    }\n",
       "\n",
       "    var output_index = fig.cell_info[2]\n",
       "    var cell = fig.cell_info[0];\n",
       "\n",
       "};\n",
       "\n",
       "mpl.figure.prototype.handle_close = function(fig, msg) {\n",
       "    var width = fig.canvas.width/mpl.ratio\n",
       "    fig.root.unbind('remove')\n",
       "\n",
       "    // Update the output cell to use the data from the current canvas.\n",
       "    fig.push_to_output();\n",
       "    var dataURL = fig.canvas.toDataURL();\n",
       "    // Re-enable the keyboard manager in IPython - without this line, in FF,\n",
       "    // the notebook keyboard shortcuts fail.\n",
       "    IPython.keyboard_manager.enable()\n",
       "    $(fig.parent_element).html('<img src=\"' + dataURL + '\" width=\"' + width + '\">');\n",
       "    fig.close_ws(fig, msg);\n",
       "}\n",
       "\n",
       "mpl.figure.prototype.close_ws = function(fig, msg){\n",
       "    fig.send_message('closing', msg);\n",
       "    // fig.ws.close()\n",
       "}\n",
       "\n",
       "mpl.figure.prototype.push_to_output = function(remove_interactive) {\n",
       "    // Turn the data on the canvas into data in the output cell.\n",
       "    var width = this.canvas.width/mpl.ratio\n",
       "    var dataURL = this.canvas.toDataURL();\n",
       "    this.cell_info[1]['text/html'] = '<img src=\"' + dataURL + '\" width=\"' + width + '\">';\n",
       "}\n",
       "\n",
       "mpl.figure.prototype.updated_canvas_event = function() {\n",
       "    // Tell IPython that the notebook contents must change.\n",
       "    IPython.notebook.set_dirty(true);\n",
       "    this.send_message(\"ack\", {});\n",
       "    var fig = this;\n",
       "    // Wait a second, then push the new image to the DOM so\n",
       "    // that it is saved nicely (might be nice to debounce this).\n",
       "    setTimeout(function () { fig.push_to_output() }, 1000);\n",
       "}\n",
       "\n",
       "mpl.figure.prototype._init_toolbar = function() {\n",
       "    var fig = this;\n",
       "\n",
       "    var nav_element = $('<div/>')\n",
       "    nav_element.attr('style', 'width: 100%');\n",
       "    this.root.append(nav_element);\n",
       "\n",
       "    // Define a callback function for later on.\n",
       "    function toolbar_event(event) {\n",
       "        return fig.toolbar_button_onclick(event['data']);\n",
       "    }\n",
       "    function toolbar_mouse_event(event) {\n",
       "        return fig.toolbar_button_onmouseover(event['data']);\n",
       "    }\n",
       "\n",
       "    for(var toolbar_ind in mpl.toolbar_items){\n",
       "        var name = mpl.toolbar_items[toolbar_ind][0];\n",
       "        var tooltip = mpl.toolbar_items[toolbar_ind][1];\n",
       "        var image = mpl.toolbar_items[toolbar_ind][2];\n",
       "        var method_name = mpl.toolbar_items[toolbar_ind][3];\n",
       "\n",
       "        if (!name) { continue; };\n",
       "\n",
       "        var button = $('<button class=\"btn btn-default\" href=\"#\" title=\"' + name + '\"><i class=\"fa ' + image + ' fa-lg\"></i></button>');\n",
       "        button.click(method_name, toolbar_event);\n",
       "        button.mouseover(tooltip, toolbar_mouse_event);\n",
       "        nav_element.append(button);\n",
       "    }\n",
       "\n",
       "    // Add the status bar.\n",
       "    var status_bar = $('<span class=\"mpl-message\" style=\"text-align:right; float: right;\"/>');\n",
       "    nav_element.append(status_bar);\n",
       "    this.message = status_bar[0];\n",
       "\n",
       "    // Add the close button to the window.\n",
       "    var buttongrp = $('<div class=\"btn-group inline pull-right\"></div>');\n",
       "    var button = $('<button class=\"btn btn-mini btn-primary\" href=\"#\" title=\"Stop Interaction\"><i class=\"fa fa-power-off icon-remove icon-large\"></i></button>');\n",
       "    button.click(function (evt) { fig.handle_close(fig, {}); } );\n",
       "    button.mouseover('Stop Interaction', toolbar_mouse_event);\n",
       "    buttongrp.append(button);\n",
       "    var titlebar = this.root.find($('.ui-dialog-titlebar'));\n",
       "    titlebar.prepend(buttongrp);\n",
       "}\n",
       "\n",
       "mpl.figure.prototype._root_extra_style = function(el){\n",
       "    var fig = this\n",
       "    el.on(\"remove\", function(){\n",
       "\tfig.close_ws(fig, {});\n",
       "    });\n",
       "}\n",
       "\n",
       "mpl.figure.prototype._canvas_extra_style = function(el){\n",
       "    // this is important to make the div 'focusable\n",
       "    el.attr('tabindex', 0)\n",
       "    // reach out to IPython and tell the keyboard manager to turn it's self\n",
       "    // off when our div gets focus\n",
       "\n",
       "    // location in version 3\n",
       "    if (IPython.notebook.keyboard_manager) {\n",
       "        IPython.notebook.keyboard_manager.register_events(el);\n",
       "    }\n",
       "    else {\n",
       "        // location in version 2\n",
       "        IPython.keyboard_manager.register_events(el);\n",
       "    }\n",
       "\n",
       "}\n",
       "\n",
       "mpl.figure.prototype._key_event_extra = function(event, name) {\n",
       "    var manager = IPython.notebook.keyboard_manager;\n",
       "    if (!manager)\n",
       "        manager = IPython.keyboard_manager;\n",
       "\n",
       "    // Check for shift+enter\n",
       "    if (event.shiftKey && event.which == 13) {\n",
       "        this.canvas_div.blur();\n",
       "        // select the cell after this one\n",
       "        var index = IPython.notebook.find_cell_index(this.cell_info[0]);\n",
       "        IPython.notebook.select(index + 1);\n",
       "    }\n",
       "}\n",
       "\n",
       "mpl.figure.prototype.handle_save = function(fig, msg) {\n",
       "    fig.ondownload(fig, null);\n",
       "}\n",
       "\n",
       "\n",
       "mpl.find_output_cell = function(html_output) {\n",
       "    // Return the cell and output element which can be found *uniquely* in the notebook.\n",
       "    // Note - this is a bit hacky, but it is done because the \"notebook_saving.Notebook\"\n",
       "    // IPython event is triggered only after the cells have been serialised, which for\n",
       "    // our purposes (turning an active figure into a static one), is too late.\n",
       "    var cells = IPython.notebook.get_cells();\n",
       "    var ncells = cells.length;\n",
       "    for (var i=0; i<ncells; i++) {\n",
       "        var cell = cells[i];\n",
       "        if (cell.cell_type === 'code'){\n",
       "            for (var j=0; j<cell.output_area.outputs.length; j++) {\n",
       "                var data = cell.output_area.outputs[j];\n",
       "                if (data.data) {\n",
       "                    // IPython >= 3 moved mimebundle to data attribute of output\n",
       "                    data = data.data;\n",
       "                }\n",
       "                if (data['text/html'] == html_output) {\n",
       "                    return [cell, data, j];\n",
       "                }\n",
       "            }\n",
       "        }\n",
       "    }\n",
       "}\n",
       "\n",
       "// Register the function which deals with the matplotlib target/channel.\n",
       "// The kernel may be null if the page has been refreshed.\n",
       "if (IPython.notebook.kernel != null) {\n",
       "    IPython.notebook.kernel.comm_manager.register_target('matplotlib', mpl.mpl_figure_comm);\n",
       "}\n"
      ],
      "text/plain": [
       "<IPython.core.display.Javascript object>"
      ]
     },
     "metadata": {},
     "output_type": "display_data"
    },
    {
     "data": {
      "text/html": [
       "<img src=\"data:image/png;base64,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\" width=\"1000\">"
      ],
      "text/plain": [
       "<IPython.core.display.HTML object>"
      ]
     },
     "metadata": {},
     "output_type": "display_data"
    }
   ],
   "source": [
    "display(cohort_box, age_widget, year_widget, data_widget_box, age_adjustment_widget)\n",
    "\n",
    "fig, ax = plt.subplots(1, 2, figsize = (10, 5))\n",
    "ax[0].set_title(\"Men\")\n",
    "ax[0].set_ylabel(\"LFPR (p.p.)\")\n",
    "ax[0].set_xlabel(\"Age\")\n",
    "ax[0].set_xlim([16, 80])\n",
    "ax[0].set_ylim([0, 100])\n",
    "ax[1].set_title(\"Women\")\n",
    "ax[1].set_ylabel(\"LFPR (p.p.)\")\n",
    "ax[1].set_xlabel(\"Age\")\n",
    "ax[1].set_xlim([16, 80])\n",
    "ax[1].set_ylim([0, 100])\n",
    "plt.tight_layout(rect = (0., 0.2, 1., 1.))\n",
    "plt.show()\n",
    "\n",
    "def cohort_plots(change):\n",
    "    # Convert cohort list from text to list of ints\n",
    "    cohort_list = [int(c) for c in cohort_widget.value.split(',') if c.strip().isdigit()]\n",
    "    variable_values = [item.value for item in data_widget_box.children]\n",
    "    \n",
    "    # Create male subplot\n",
    "    ax[0].clear()\n",
    "    ax[0].set_title(\"Men\")\n",
    "    ax[0].set_ylabel(\"LFPR (p.p.)\")\n",
    "    ax[0].set_xlabel(\"Age\")\n",
    "    ax[0].set_xlim([age_widget.value[0], age_widget.value[1]])\n",
    "    for i, cohort in enumerate(cohort_list):\n",
    "        temp = data[data['cohort'] == cohort]\n",
    "        temp_train = temp['year'] < 2000\n",
    "        temp_test = temp['year'] >= 2000\n",
    "        temp_sex = temp['sex'] == 1\n",
    "        temp_ages = np.logical_and(temp['age'] >= age_widget.value[0], temp['age'] <= age_widget.value[1])\n",
    "        temp_years = np.logical_and(temp['year'] >= year_widget.value[0], temp['year'] <= year_widget.value[1])\n",
    "        temp_adj = np.zeros(temp['lfp'].shape)\n",
    "        if age_adjustment_widget.value:\n",
    "            temp_adj = temp['lfp_age_avg']\n",
    "        for j, (var, val) in enumerate(zip(variables, variable_values)):\n",
    "            if val:\n",
    "                ax[0].plot(temp['age'][np.logical_and.reduce((temp_train, temp_sex, temp_ages, temp_years))], \n",
    "                     (temp[var][np.logical_and.reduce((temp_train, temp_sex, temp_ages, temp_years))] -\n",
    "                      temp_adj[np.logical_and.reduce((temp_train, temp_sex, temp_ages, temp_years))]), \n",
    "                     color = color_list[i], marker = marker_list[i], markersize = train_markersize,\n",
    "                     linestyle = linestyle_list[j], linewidth = train_linewidth)\n",
    "                ax[0].plot(temp['age'][np.logical_and.reduce((temp_test, temp_sex, temp_ages, temp_years))], \n",
    "                     (temp[var][np.logical_and.reduce((temp_test, temp_sex, temp_ages, temp_years))] - \n",
    "                      temp_adj[np.logical_and.reduce((temp_test, temp_sex, temp_ages, temp_years))]), \n",
    "                     color = color_list[i], marker = marker_list[i], markersize = test_markersize,\n",
    "                     linestyle = linestyle_list[j], linewidth = test_linewidth)       \n",
    "    \n",
    "    # Create female subplot\n",
    "    ax[1].clear()\n",
    "    ax[1].set_title(\"Women\")\n",
    "    ax[1].set_ylabel(\"LFPR (p.p.)\")\n",
    "    ax[1].set_xlabel(\"Age\")\n",
    "    ax[1].set_xlim([age_widget.value[0], age_widget.value[1]])\n",
    "    for i, cohort in enumerate(cohort_list):\n",
    "        temp = data[data['cohort'] == cohort]\n",
    "        temp_train = temp['year'] < 2000\n",
    "        temp_test = temp['year'] >= 2000\n",
    "        temp_sex = temp['sex'] == 2\n",
    "        temp_ages = np.logical_and(temp['age'] >= age_widget.value[0], temp['age'] <= age_widget.value[1])\n",
    "        temp_years = np.logical_and(temp['year'] >= year_widget.value[0], temp['year'] <= year_widget.value[1])\n",
    "        temp_adj = np.zeros(temp['lfp'].shape)\n",
    "        if age_adjustment_widget.value:\n",
    "            temp_adj = temp['lfp_age_avg']\n",
    "        for j, (var, val) in enumerate(zip(variables, variable_values)):\n",
    "            if val:\n",
    "                ax[1].plot(temp['age'][np.logical_and.reduce((temp_train, temp_sex, temp_ages, temp_years))], \n",
    "                     (temp[var][np.logical_and.reduce((temp_train, temp_sex, temp_ages, temp_years))] -\n",
    "                      temp_adj[np.logical_and.reduce((temp_train, temp_sex, temp_ages, temp_years))]), \n",
    "                     color = color_list[i], marker = marker_list[i], markersize = train_markersize,\n",
    "                     linestyle = linestyle_list[j], linewidth = train_linewidth)\n",
    "                ax[1].plot(temp['age'][np.logical_and.reduce((temp_test, temp_sex, temp_ages, temp_years))], \n",
    "                     (temp[var][np.logical_and.reduce((temp_test, temp_sex, temp_ages, temp_years))] - \n",
    "                      temp_adj[np.logical_and.reduce((temp_test, temp_sex, temp_ages, temp_years))]), \n",
    "                     color = color_list[i], marker = marker_list[i], markersize = test_markersize,\n",
    "                     linestyle = linestyle_list[j], linewidth = test_linewidth)\n",
    "    \n",
    "    # Legend   \n",
    "    lines = []\n",
    "    for i, cohort in enumerate(cohort_list):\n",
    "        lines.append(mlines.Line2D([], [], color=color_list[i], marker=marker_list[i],\n",
    "                          markersize=train_markersize, label=cohort))\n",
    "    ax[0].legend(handles=lines, bbox_to_anchor=(0., -0.25, 2.2, .102), \n",
    "               loc = 2, ncol=len(lines), mode='expand', borderaxespad=0., \n",
    "                 frameon=False, title=\"Cohort:\")\n",
    "        \n",
    "    series = []\n",
    "    for j, (var, val, title) in enumerate(zip(variables, variable_values, vartitles)):\n",
    "        series.append(mlines.Line2D([], [], color='black', marker=None, label=title, linestyle = linestyle_list[j]))\n",
    "    ax[1].legend(handles=series, bbox_to_anchor=(-1.2, -0.4, 2.2, .102), \n",
    "               loc = 2, ncol=len(series), mode='expand', borderaxespad=0., \n",
    "                 frameon=False, title=\"Series:\")\n",
    "        \n",
    "    fig.canvas.draw()\n",
    "    \n",
    "for widget in [cohort_widget, age_widget, year_widget, age_adjustment_widget]:\n",
    "    widget.observe(cohort_plots, names = 'value')\n",
    "for widget in data_widget_box.children:\n",
    "    widget.observe(cohort_plots, names = 'value')\n",
    "cohort_plots(None)"
   ]
  },
  {
   "cell_type": "code",
   "execution_count": 5,
   "metadata": {
    "collapsed": true
   },
   "outputs": [],
   "source": [
    "%gui qt\n",
    "from mayavi import mlab\n",
    "from tvtk.api import tvtk\n",
    "\n",
    "fig = mlab.figure(1, fgcolor=(0, 0, 0), bgcolor=(1, 1, 1))\n",
    "\n",
    "men = data['sex'] == 1\n",
    "\n",
    "# Create and visualize the mesh\n",
    "pts = {}\n",
    "for var in variables:\n",
    "    pts[var] = mlab.points3d(data['age'][men], data['cohort'][men], data[var][men], data[var][men], scale_mode='none', scale_factor=0.2)\n",
    "\n",
    "mlab.title(\"Men\")\n",
    "mlab.axes(extent = [16, 80, 1886, 2000, 0, 100], nb_labels = 6)\n",
    "mlab.xlabel(\"Age\")\n",
    "mlab.ylabel(\"Cohort\")\n",
    "mlab.zlabel(\"LFPR (p.p.)\")\n",
    "\n",
    "mesh = {}\n",
    "surf = {}\n",
    "for var in variables:\n",
    "    mesh[var] = mlab.pipeline.delaunay2d(pts[var])\n",
    "    surf[var] = mlab.pipeline.surface(mesh[var])\n",
    "\n",
    "fig.scene.interactor.interactor_style = tvtk.InteractorStyleTerrain()\n",
    "mlab.show()"
   ]
  },
  {
   "cell_type": "code",
   "execution_count": null,
   "metadata": {
    "collapsed": true
   },
   "outputs": [],
   "source": []
  }
 ],
 "metadata": {
  "kernelspec": {
   "display_name": "Python [conda env:py27]",
   "language": "python",
   "name": "conda-env-py27-py"
  },
  "language_info": {
   "codemirror_mode": {
    "name": "ipython",
    "version": 2
   },
   "file_extension": ".py",
   "mimetype": "text/x-python",
   "name": "python",
   "nbconvert_exporter": "python",
   "pygments_lexer": "ipython2",
   "version": "2.7.13"
  },
  "widgets": {
   "state": {
    "036fbc5e0efb4caaa2395a27efb27913": {
     "views": [
      {
       "cell_index": 3
      }
     ]
    },
    "1f1a428371294d2f8c4a9b6ced671f91": {
     "views": [
      {
       "cell_index": 3
      }
     ]
    },
    "28c3ae4950a04aab9d8193fc4a05da58": {
     "views": [
      {
       "cell_index": 3
      }
     ]
    },
    "2a618a3b21a042de96938bfaf954710b": {
     "views": [
      {
       "cell_index": 3
      }
     ]
    },
    "2c825c9c54a24920a29ac01f52349d7f": {
     "views": [
      {
       "cell_index": 3
      },
      {
       "cell_index": 3
      }
     ]
    },
    "2d515a68920a436ba845bbda4a7aa356": {
     "views": [
      {
       "cell_index": 3
      },
      {
       "cell_index": 3
      }
     ]
    },
    "2e1acc980bd0474ab9d85e7a524d539c": {
     "views": [
      {
       "cell_index": 3
      }
     ]
    },
    "2e96c09e177b4551afb2fa9908aaea6a": {
     "views": [
      {
       "cell_index": 4
      },
      {
       "cell_index": 4
      },
      {
       "cell_index": 4
      }
     ]
    },
    "3411bbe5e6094b159ac67ad4002d335c": {
     "views": [
      {
       "cell_index": 3
      }
     ]
    },
    "3ac762e899a844c9b8383f27bf60272c": {
     "views": [
      {
       "cell_index": 3
      }
     ]
    },
    "3b3ea752708a4c3a809c2ab7e5f15bc4": {
     "views": [
      {
       "cell_index": 3
      }
     ]
    },
    "40ab900c82424da9b77100ce7771798e": {
     "views": [
      {
       "cell_index": 3
      }
     ]
    },
    "49c04d854b33439ca1e20c48028d94b9": {
     "views": [
      {
       "cell_index": 3
      }
     ]
    },
    "4ba1271b5c4241fab980149066d335cc": {
     "views": [
      {
       "cell_index": 4
      }
     ]
    },
    "4d365417501a488bb77571263c343878": {
     "views": [
      {
       "cell_index": 3
      }
     ]
    },
    "4de011a3856c458ca2b4dc4974504e32": {
     "views": [
      {
       "cell_index": 4
      }
     ]
    },
    "50529c74f78e45b9b5bb17d5a6b30a3a": {
     "views": [
      {
       "cell_index": 4
      },
      {
       "cell_index": 4
      }
     ]
    },
    "57731038606740bda873fb4e015e78a3": {
     "views": [
      {
       "cell_index": 3
      }
     ]
    },
    "5ccbce8930224fb28064fe93e596140a": {
     "views": [
      {
       "cell_index": 4
      }
     ]
    },
    "64707d3eb7464c03b5c01bac1627649b": {
     "views": [
      {
       "cell_index": 3
      }
     ]
    },
    "684629ae0d974baca008f117f1530026": {
     "views": [
      {
       "cell_index": 3
      }
     ]
    },
    "6a6fbe0ab6d544fa99cdbff6d1ce74d9": {
     "views": [
      {
       "cell_index": 3
      }
     ]
    },
    "6ae058d4303c44f2836ea2beb3248648": {
     "views": [
      {
       "cell_index": 3
      }
     ]
    },
    "794437c46de245e68290c5b580d65870": {
     "views": [
      {
       "cell_index": 4
      }
     ]
    },
    "79dda00e239a4de0b5a6ab2cc8a19539": {
     "views": [
      {
       "cell_index": 4
      },
      {
       "cell_index": 4
      },
      {
       "cell_index": 4
      },
      {
       "cell_index": 4
      }
     ]
    },
    "7f70bcca41704e90bff4bceaf2b08efc": {
     "views": [
      {
       "cell_index": 3
      }
     ]
    },
    "80be3e4c404145469c0a8de51874465c": {
     "views": [
      {
       "cell_index": 3
      }
     ]
    },
    "857f065db4844c16afc03c7f1fd64631": {
     "views": [
      {
       "cell_index": 3
      }
     ]
    },
    "8696b30a47784b0588d9a88b6e5fe5e9": {
     "views": [
      {
       "cell_index": 4
      }
     ]
    },
    "8aa2c2e50a1b456098566b4c2dce5be6": {
     "views": [
      {
       "cell_index": 3
      }
     ]
    },
    "90b83ea2e22e46f89f723c56aac6fe74": {
     "views": [
      {
       "cell_index": 4
      },
      {
       "cell_index": 4
      }
     ]
    },
    "924ffca1b5b444f98f0f8788ecc7655a": {
     "views": [
      {
       "cell_index": 3
      }
     ]
    },
    "97087a3445bb4c4699a214ac5ad6d990": {
     "views": [
      {
       "cell_index": 3
      },
      {
       "cell_index": 3
      }
     ]
    },
    "a2664aec827d4f1082cba85f302ffbf5": {
     "views": [
      {
       "cell_index": 3
      }
     ]
    },
    "a57219ffaee84470b0197ec542873b46": {
     "views": [
      {
       "cell_index": 3
      }
     ]
    },
    "a6875179dfe548f68c1ce2f4f55f6d53": {
     "views": [
      {
       "cell_index": 3
      }
     ]
    },
    "a7bcf154c35f4de18658c059e8fbff41": {
     "views": [
      {
       "cell_index": 3
      }
     ]
    },
    "a80a44d4d69b48528389e5dcd7345753": {
     "views": [
      {
       "cell_index": 4
      },
      {
       "cell_index": 4
      },
      {
       "cell_index": 4
      },
      {
       "cell_index": 4
      }
     ]
    },
    "b21fef222242475fa99b10ddb8f36ace": {
     "views": [
      {
       "cell_index": 3
      }
     ]
    },
    "b9309f98a2114dffaa83aadbfbc9b742": {
     "views": [
      {
       "cell_index": 3
      }
     ]
    },
    "bbcb36f24c0347d895b27000da26b33d": {
     "views": [
      {
       "cell_index": 3
      }
     ]
    },
    "c0397a2c714443d899eaa63eb7a00543": {
     "views": [
      {
       "cell_index": 3
      }
     ]
    },
    "c249429c20b2431a8cec41c26d2e693c": {
     "views": [
      {
       "cell_index": 3
      }
     ]
    },
    "c451777ac1dd42f5be318661ed4cb086": {
     "views": [
      {
       "cell_index": 3
      }
     ]
    },
    "c4c9d8b12d8243e9bc00fe7d2bf1ab3e": {
     "views": [
      {
       "cell_index": 3
      }
     ]
    },
    "c5721bc4e0e74aac86a640bd958ac9fe": {
     "views": [
      {
       "cell_index": 4
      },
      {
       "cell_index": 4
      }
     ]
    },
    "c769776cd24e4fb19abc9b534d943659": {
     "views": [
      {
       "cell_index": 3
      }
     ]
    },
    "ca0abda59c6b466d917e2d5e6c6d05c9": {
     "views": [
      {
       "cell_index": 3
      }
     ]
    },
    "d36aaa75bea843379b08af081717ed95": {
     "views": [
      {
       "cell_index": 3
      },
      {
       "cell_index": 3
      }
     ]
    },
    "de9345f58ac8422098313083e24ce1d8": {
     "views": [
      {
       "cell_index": 3
      }
     ]
    },
    "dff635a618404a56b27b72865738d06e": {
     "views": [
      {
       "cell_index": 3
      }
     ]
    },
    "e54ea86c55d74f57ae1e1a40c10b393a": {
     "views": [
      {
       "cell_index": 3
      }
     ]
    },
    "e8501bcde3ca45ccafa3a62ecfa3582f": {
     "views": [
      {
       "cell_index": 3
      }
     ]
    },
    "ec1a2422e85b453d89866dda2b9f75d8": {
     "views": [
      {
       "cell_index": 4
      },
      {
       "cell_index": 4
      },
      {
       "cell_index": 4
      }
     ]
    },
    "ec56fe94aea6482d9d47eab003851f74": {
     "views": [
      {
       "cell_index": 4
      },
      {
       "cell_index": 4
      }
     ]
    },
    "ee0b6d1857bc4bada07f19c509b38759": {
     "views": [
      {
       "cell_index": 4
      },
      {
       "cell_index": 3
      },
      {
       "cell_index": 3
      },
      {
       "cell_index": 3
      },
      {
       "cell_index": 3
      },
      {
       "cell_index": 3
      },
      {
       "cell_index": 3
      },
      {
       "cell_index": 3
      },
      {
       "cell_index": 3
      },
      {
       "cell_index": 3
      },
      {
       "cell_index": 3
      },
      {
       "cell_index": 3
      }
     ]
    },
    "f044fcdb474f40a4a7ec963be39d1a7d": {
     "views": [
      {
       "cell_index": 4
      }
     ]
    },
    "fd4fcdd1e7e24468829ed3ce35f873ec": {
     "views": [
      {
       "cell_index": 4
      },
      {
       "cell_index": 3
      },
      {
       "cell_index": 3
      },
      {
       "cell_index": 3
      },
      {
       "cell_index": 3
      },
      {
       "cell_index": 3
      },
      {
       "cell_index": 3
      },
      {
       "cell_index": 3
      },
      {
       "cell_index": 3
      },
      {
       "cell_index": 3
      },
      {
       "cell_index": 3
      },
      {
       "cell_index": 3
      }
     ]
    },
    "fe87a16d0e3c4bed966968e664f3a977": {
     "views": [
      {
       "cell_index": 3
      }
     ]
    }
   },
   "version": "1.2.0"
  }
 },
 "nbformat": 4,
 "nbformat_minor": 2
}
